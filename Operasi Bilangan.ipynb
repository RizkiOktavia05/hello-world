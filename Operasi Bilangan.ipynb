{
 "cells": [
  {
   "cell_type": "code",
   "execution_count": 1,
   "metadata": {},
   "outputs": [
    {
     "name": "stdout",
     "output_type": "stream",
     "text": [
      "Masukan nama file yang ingin dibuat:OperasiBilangan\n",
      "Masukan nilai A = 3\n",
      "Masukan nilai B = 4\n"
     ]
    }
   ],
   "source": [
    "import os\n",
    "os.listdir()\n",
    "file_name = str(input(\"Masukan nama file yang ingin dibuat:\"))\n",
    "fn = open(file_name + \".txt\", \"w\")\n",
    "os.listdir()\n",
    "\n",
    "with open(file_name + \".txt\", \"w\") as f:\n",
    "    f.write('##Penjumlahan dan Pengurangan dua bilangan\\n')\n",
    "    a=eval(input('Masukan nilai A = '))\n",
    "    b=eval(input('Masukan nilai B = '))\n",
    "    A=str(a)\n",
    "    B=str(b)\n",
    "    f.write('Masukan nilai A = ')\n",
    "    f.write(A)\n",
    "    f.write('\\nMasukan nilai B = ')\n",
    "    f.write(B)\n",
    "    c=a+b\n",
    "    d=a-b\n",
    "    C=str(c)\n",
    "    D=str(d)\n",
    "    f.write('\\nPenjumlahan ')\n",
    "    f.write(A)\n",
    "    f.write(' + ')\n",
    "    f.write(B)\n",
    "    f.write(' = ')\n",
    "    f.write(C)\n",
    "    f.write('\\nPengurangan ')\n",
    "    f.write(A)\n",
    "    f.write(' - ')\n",
    "    f.write(B)\n",
    "    f.write(' = ')\n",
    "    f.write(D)\n",
    "    f.write(' \\n ')"
   ]
  },
  {
   "cell_type": "code",
   "execution_count": null,
   "metadata": {},
   "outputs": [],
   "source": []
  }
 ],
 "metadata": {
  "kernelspec": {
   "display_name": "Python 3",
   "language": "python",
   "name": "python3"
  },
  "language_info": {
   "codemirror_mode": {
    "name": "ipython",
    "version": 3
   },
   "file_extension": ".py",
   "mimetype": "text/x-python",
   "name": "python",
   "nbconvert_exporter": "python",
   "pygments_lexer": "ipython3",
   "version": "3.8.3"
  }
 },
 "nbformat": 4,
 "nbformat_minor": 4
}
